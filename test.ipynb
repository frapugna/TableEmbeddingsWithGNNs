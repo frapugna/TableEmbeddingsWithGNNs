{
 "cells": [
  {
   "cell_type": "code",
   "execution_count": 1,
   "metadata": {},
   "outputs": [
    {
     "name": "stderr",
     "output_type": "stream",
     "text": [
      "/home/francesco.pugnaloni/anaconda3/envs/HPIPyG/lib/python3.11/site-packages/tqdm/auto.py:21: TqdmWarning: IProgress not found. Please update jupyter and ipywidgets. See https://ipywidgets.readthedocs.io/en/stable/user_install.html\n",
      "  from .autonotebook import tqdm as notebook_tqdm\n"
     ]
    }
   ],
   "source": [
    "import pandas as pd\n",
    "import torch\n",
    "from torch_geometric.data import DataLoader\n",
    "from torch import nn\n",
    "from smallDatasetGenerator import *\n",
    "from GNNTE import *"
   ]
  },
  {
   "cell_type": "code",
   "execution_count": 28,
   "metadata": {},
   "outputs": [],
   "source": [
    "data = load_test_training_stuff(\"/dati/home/francesco.pugnaloni/wikipedia_tables/small_dataset_debug/\")"
   ]
  },
  {
   "cell_type": "code",
   "execution_count": 29,
   "metadata": {},
   "outputs": [
    {
     "data": {
      "text/plain": [
       "dict_keys(['tables', 'graphs', 'triples'])"
      ]
     },
     "execution_count": 29,
     "metadata": {},
     "output_type": "execute_result"
    }
   ],
   "source": [
    "data.keys()"
   ]
  },
  {
   "cell_type": "code",
   "execution_count": 30,
   "metadata": {},
   "outputs": [
    {
     "data": {
      "text/plain": [
       "torch.Size([2, 8])"
      ]
     },
     "execution_count": 30,
     "metadata": {},
     "output_type": "execute_result"
    }
   ],
   "source": [
    "data['graphs']['0'].edges.shape"
   ]
  },
  {
   "cell_type": "code",
   "execution_count": 31,
   "metadata": {},
   "outputs": [
    {
     "data": {
      "text/plain": [
       "(100, 3)"
      ]
     },
     "execution_count": 31,
     "metadata": {},
     "output_type": "execute_result"
    }
   ],
   "source": [
    "data['triples'].shape"
   ]
  },
  {
   "cell_type": "code",
   "execution_count": 32,
   "metadata": {},
   "outputs": [],
   "source": [
    "gtd = GraphTriplesDataset(data['triples'], data['graphs'])"
   ]
  },
  {
   "cell_type": "code",
   "execution_count": 33,
   "metadata": {},
   "outputs": [],
   "source": [
    "d = gtd[0]"
   ]
  },
  {
   "cell_type": "code",
   "execution_count": 34,
   "metadata": {},
   "outputs": [
    {
     "data": {
      "text/plain": [
       "tensor([[ 7,  3,  7,  0,  8,  3,  8,  1,  9,  3,  9,  2, 10,  4, 10,  0, 11,  4,\n",
       "         11,  1, 12,  4, 12,  2,  8,  5,  8,  0, 13,  5, 13,  1, 10,  5, 10,  2,\n",
       "         14,  6, 14,  0, 15,  6, 15,  1, 16,  6, 16,  2],\n",
       "        [ 3,  7,  0,  7,  3,  8,  1,  8,  3,  9,  2,  9,  4, 10,  0, 10,  4, 11,\n",
       "          1, 11,  4, 12,  2, 12,  5,  8,  0,  8,  5, 13,  1, 13,  5, 10,  2, 10,\n",
       "          6, 14,  0, 14,  6, 15,  1, 15,  6, 16,  2, 16]], device='cuda:0')"
      ]
     },
     "execution_count": 34,
     "metadata": {},
     "output_type": "execute_result"
    }
   ],
   "source": [
    "gtd[2][0]['edge_index']"
   ]
  },
  {
   "cell_type": "code",
   "execution_count": 35,
   "metadata": {},
   "outputs": [],
   "source": [
    "train_dataloader = DataLoader(gtd, batch_size=25, shuffle=True)"
   ]
  },
  {
   "cell_type": "code",
   "execution_count": 36,
   "metadata": {},
   "outputs": [],
   "source": [
    "l = []\n",
    "for i in train_dataloader:\n",
    "    l.append(i)"
   ]
  },
  {
   "cell_type": "code",
   "execution_count": 37,
   "metadata": {},
   "outputs": [
    {
     "data": {
      "text/plain": [
       "tensor([[  7,   3,   7,  ..., 620, 636, 616],\n",
       "        [  3,   7,   0,  ..., 636, 616, 636]], device='cuda:0')"
      ]
     },
     "execution_count": 37,
     "metadata": {},
     "output_type": "execute_result"
    }
   ],
   "source": [
    "l[0][0]['edge_index'].to('cuda')"
   ]
  },
  {
   "cell_type": "code",
   "execution_count": 38,
   "metadata": {},
   "outputs": [
    {
     "data": {
      "text/plain": [
       "str"
      ]
     },
     "execution_count": 38,
     "metadata": {},
     "output_type": "execute_result"
    }
   ],
   "source": [
    "type(list(data['graphs'].keys())[0])"
   ]
  },
  {
   "cell_type": "code",
   "execution_count": 39,
   "metadata": {},
   "outputs": [
    {
     "name": "stdout",
     "output_type": "stream",
     "text": [
      "[DataBatch(x=[584, 300], edge_index=[2, 2848], batch=[584], ptr=[26]), DataBatch(x=[560, 300], edge_index=[2, 2644], batch=[560], ptr=[26]), tensor([0.4422, 0.3953, 0.4357, 0.0077, 0.7624, 0.8733, 0.7745, 0.4941, 0.4377,\n",
      "        0.7602, 0.1292, 0.6353, 0.0391, 0.3701, 0.7095, 0.1510, 0.1035, 0.7768,\n",
      "        0.0290, 0.0850, 0.7549, 0.1310, 0.1681, 0.7088, 0.0742])]\n",
      "[DataBatch(x=[663, 300], edge_index=[2, 3548], batch=[663], ptr=[26]), DataBatch(x=[658, 300], edge_index=[2, 3552], batch=[658], ptr=[26]), tensor([0.0767, 0.5914, 0.4497, 0.5803, 0.0376, 0.4863, 0.7274, 0.6427, 0.0061,\n",
      "        0.3346, 0.2363, 0.6764, 0.4420, 0.5077, 0.1152, 0.4198, 0.6740, 0.6621,\n",
      "        0.6671, 0.1549, 0.1771, 0.4299, 0.9512, 0.3395, 0.8320])]\n",
      "[DataBatch(x=[626, 300], edge_index=[2, 3164], batch=[626], ptr=[26]), DataBatch(x=[604, 300], edge_index=[2, 3280], batch=[604], ptr=[26]), tensor([0.1140, 0.6785, 0.1973, 0.0786, 0.9124, 0.3368, 0.1622, 0.7461, 0.9242,\n",
      "        0.8290, 0.7410, 0.6247, 0.2520, 0.6705, 0.0182, 0.5827, 0.8618, 0.2392,\n",
      "        0.9291, 0.1719, 0.5941, 0.1882, 0.5589, 0.5580, 0.7838])]\n",
      "[DataBatch(x=[596, 300], edge_index=[2, 3020], batch=[596], ptr=[26]), DataBatch(x=[533, 300], edge_index=[2, 2532], batch=[533], ptr=[26]), tensor([0.0843, 0.6098, 0.9179, 0.7599, 0.4974, 0.7673, 0.6106, 0.0524, 0.9910,\n",
      "        0.2301, 0.8132, 0.5758, 0.0187, 0.6619, 0.8642, 0.8184, 0.8062, 0.1574,\n",
      "        0.2894, 0.9059, 0.5014, 0.8837, 0.3102, 0.4367, 0.6573])]\n"
     ]
    }
   ],
   "source": [
    "for batch in train_dataloader:\n",
    "    print(batch)"
   ]
  },
  {
   "cell_type": "code",
   "execution_count": 40,
   "metadata": {},
   "outputs": [],
   "source": [
    "batch = l[0]"
   ]
  },
  {
   "cell_type": "code",
   "execution_count": 41,
   "metadata": {},
   "outputs": [],
   "source": [
    "model = GIN(-1,300,3).to('cuda')"
   ]
  },
  {
   "cell_type": "code",
   "execution_count": 42,
   "metadata": {},
   "outputs": [
    {
     "data": {
      "text/plain": [
       "tensor([[-0.0703,  0.0888,  0.0126,  ..., -0.1402,  0.0226,  0.0484],\n",
       "        [-0.0907,  0.1135,  0.0150,  ..., -0.1588,  0.0267,  0.0645],\n",
       "        [-0.0498,  0.0641,  0.0102,  ..., -0.1216,  0.0185,  0.0324],\n",
       "        [-0.0907,  0.1135,  0.0150,  ..., -0.1588,  0.0267,  0.0645],\n",
       "        [-0.0498,  0.0641,  0.0102,  ..., -0.1216,  0.0185,  0.0324]])"
      ]
     },
     "execution_count": 42,
     "metadata": {},
     "output_type": "execute_result"
    }
   ],
   "source": [
    "gtd.graphs['0'].X"
   ]
  },
  {
   "cell_type": "code",
   "execution_count": 43,
   "metadata": {},
   "outputs": [
    {
     "data": {
      "text/plain": [
       "tensor([[3, 1, 3, 0, 4, 2, 4, 0],\n",
       "        [1, 3, 0, 3, 2, 4, 0, 4]], device='cuda:0')"
      ]
     },
     "execution_count": 43,
     "metadata": {},
     "output_type": "execute_result"
    }
   ],
   "source": [
    "gtd.graphs['0'].edges"
   ]
  },
  {
   "cell_type": "code",
   "execution_count": 44,
   "metadata": {},
   "outputs": [
    {
     "data": {
      "text/plain": [
       "torch.Size([5, 300])"
      ]
     },
     "execution_count": 44,
     "metadata": {},
     "output_type": "execute_result"
    }
   ],
   "source": [
    "model(gtd.graphs['0'].X.to('cuda'),gtd.graphs['0'].edges.to('cuda')).shape"
   ]
  },
  {
   "cell_type": "code",
   "execution_count": 45,
   "metadata": {},
   "outputs": [],
   "source": [
    "batch = l[0]"
   ]
  },
  {
   "cell_type": "code",
   "execution_count": 46,
   "metadata": {},
   "outputs": [
    {
     "data": {
      "text/plain": [
       "list"
      ]
     },
     "execution_count": 46,
     "metadata": {},
     "output_type": "execute_result"
    }
   ],
   "source": [
    "type(batch)"
   ]
  },
  {
   "cell_type": "code",
   "execution_count": 49,
   "metadata": {},
   "outputs": [
    {
     "data": {
      "text/plain": [
       "torch.Size([25])"
      ]
     },
     "execution_count": 49,
     "metadata": {},
     "output_type": "execute_result"
    }
   ],
   "source": [
    "batch[2].shape"
   ]
  },
  {
   "cell_type": "code",
   "execution_count": 47,
   "metadata": {},
   "outputs": [],
   "source": [
    "gbatch = batch[0]"
   ]
  },
  {
   "cell_type": "code",
   "execution_count": 143,
   "metadata": {},
   "outputs": [
    {
     "data": {
      "text/plain": [
       "torch_geometric.data.batch.DataBatch"
      ]
     },
     "execution_count": 143,
     "metadata": {},
     "output_type": "execute_result"
    }
   ],
   "source": [
    "type(gbatch)"
   ]
  },
  {
   "cell_type": "code",
   "execution_count": 144,
   "metadata": {},
   "outputs": [
    {
     "data": {
      "text/plain": [
       "Data(x=[31, 300], edge_index=[2, 192])"
      ]
     },
     "execution_count": 144,
     "metadata": {},
     "output_type": "execute_result"
    }
   ],
   "source": [
    "gbatch[1]"
   ]
  },
  {
   "cell_type": "code",
   "execution_count": 145,
   "metadata": {},
   "outputs": [
    {
     "data": {
      "text/plain": [
       "25"
      ]
     },
     "execution_count": 145,
     "metadata": {},
     "output_type": "execute_result"
    }
   ],
   "source": [
    "gbatch.num_graphs"
   ]
  },
  {
   "cell_type": "code",
   "execution_count": 146,
   "metadata": {},
   "outputs": [],
   "source": [
    "intervals = [0]+[gbatch[i]['x'].shape[0] for i in range(len(gbatch))]"
   ]
  },
  {
   "cell_type": "code",
   "execution_count": 147,
   "metadata": {},
   "outputs": [],
   "source": [
    "\n",
    "from tqdm import tqdm\n",
    "li = list(range(10000000))\n",
    "l = [0]\n",
    "for t in li:\n",
    "    l.append(l[-1]+t)"
   ]
  },
  {
   "cell_type": "code",
   "execution_count": 148,
   "metadata": {},
   "outputs": [
    {
     "data": {
      "text/plain": [
       "DataBatch(x=[577, 300], edge_index=[2, 3092], batch=[577], ptr=[26])"
      ]
     },
     "execution_count": 148,
     "metadata": {},
     "output_type": "execute_result"
    }
   ],
   "source": [
    "gbatch"
   ]
  },
  {
   "cell_type": "code",
   "execution_count": 149,
   "metadata": {},
   "outputs": [
    {
     "data": {
      "text/plain": [
       "11"
      ]
     },
     "execution_count": 149,
     "metadata": {},
     "output_type": "execute_result"
    }
   ],
   "source": [
    "gbatch[0]['x'].shape[0]"
   ]
  },
  {
   "cell_type": "code",
   "execution_count": 150,
   "metadata": {},
   "outputs": [],
   "source": [
    "out = model(gbatch['x'].to('cuda'), gbatch['edge_index'].to('cuda'))"
   ]
  },
  {
   "cell_type": "code",
   "execution_count": 151,
   "metadata": {},
   "outputs": [
    {
     "data": {
      "text/plain": [
       "torch.Size([300])"
      ]
     },
     "execution_count": 151,
     "metadata": {},
     "output_type": "execute_result"
    }
   ],
   "source": [
    "out[0].shape"
   ]
  },
  {
   "cell_type": "code",
   "execution_count": 152,
   "metadata": {},
   "outputs": [],
   "source": [
    "tensor = torch.tensor([[1.0, 2.0, 3.0],\n",
    "                       [4.0, 5.0, 6.0]])"
   ]
  },
  {
   "cell_type": "code",
   "execution_count": 153,
   "metadata": {},
   "outputs": [
    {
     "data": {
      "text/plain": [
       "torch.Size([2, 3])"
      ]
     },
     "execution_count": 153,
     "metadata": {},
     "output_type": "execute_result"
    }
   ],
   "source": [
    "tensor.shape"
   ]
  },
  {
   "cell_type": "code",
   "execution_count": 154,
   "metadata": {},
   "outputs": [
    {
     "data": {
      "text/plain": [
       "torch.Size([3])"
      ]
     },
     "execution_count": 154,
     "metadata": {},
     "output_type": "execute_result"
    }
   ],
   "source": [
    "torch.mean(tensor, dim=0).shape"
   ]
  },
  {
   "cell_type": "code",
   "execution_count": 155,
   "metadata": {},
   "outputs": [
    {
     "name": "stdout",
     "output_type": "stream",
     "text": [
      "tensor([[1, 2, 3],\n",
      "        [4, 5, 6]])\n"
     ]
    }
   ],
   "source": [
    "import torch\n",
    "\n",
    "# Example tensors\n",
    "tensor1 = torch.tensor([1, 2, 3])\n",
    "tensor2 = torch.tensor([4, 5, 6])\n",
    "\n",
    "# Concatenate along dimension 0\n",
    "concatenated_tensor = torch.cat((tensor1.unsqueeze(dim=0), tensor2.unsqueeze(dim=0)), dim=0)\n",
    "\n",
    "print(concatenated_tensor)"
   ]
  },
  {
   "cell_type": "code",
   "execution_count": 156,
   "metadata": {},
   "outputs": [],
   "source": [
    "my_model = GNNTE(100,3)"
   ]
  },
  {
   "cell_type": "code",
   "execution_count": 157,
   "metadata": {},
   "outputs": [],
   "source": [
    "out = model(gbatch['x'].to('cuda'), gbatch['edge_index'].to('cuda'))"
   ]
  },
  {
   "cell_type": "code",
   "execution_count": 158,
   "metadata": {},
   "outputs": [
    {
     "data": {
      "text/plain": [
       "tensor([[-0.0349, -0.0655,  0.0415,  ...,  0.0701, -0.0300,  0.0642],\n",
       "        [-0.0829,  0.1732, -0.0271,  ..., -0.2305,  0.0243,  0.0664],\n",
       "        [ 0.0295, -0.0276, -0.0211,  ...,  0.0401, -0.0036,  0.0136],\n",
       "        ...,\n",
       "        [-0.0823,  0.2050, -0.0476,  ..., -0.2261,  0.0221,  0.0751],\n",
       "        [-0.0267, -0.0463,  0.0250,  ..., -0.0153,  0.0012, -0.0230],\n",
       "        [-0.0016, -0.0375,  0.0227,  ...,  0.0200,  0.0058, -0.0349]],\n",
       "       device='cuda:0')"
      ]
     },
     "execution_count": 158,
     "metadata": {},
     "output_type": "execute_result"
    }
   ],
   "source": [
    "gbatch['x'].to('cuda')"
   ]
  },
  {
   "cell_type": "code",
   "execution_count": 159,
   "metadata": {},
   "outputs": [
    {
     "data": {
      "text/plain": [
       "tensor([[  5,   3,   5,  ..., 571, 576, 568],\n",
       "        [  3,   5,   0,  ..., 576, 568, 576]], device='cuda:0')"
      ]
     },
     "execution_count": 159,
     "metadata": {},
     "output_type": "execute_result"
    }
   ],
   "source": [
    "gbatch['edge_index'].to('cuda')"
   ]
  },
  {
   "cell_type": "code",
   "execution_count": 160,
   "metadata": {},
   "outputs": [
    {
     "data": {
      "text/plain": [
       "tensor([nan, nan, nan, nan, nan, nan, nan, nan, nan, nan, nan, nan, nan, nan, nan, nan, nan, nan, nan, nan, nan, nan, nan, nan,\n",
       "        nan, nan, nan, nan, nan, nan, nan, nan, nan, nan, nan, nan, nan, nan, nan, nan, nan, nan, nan, nan, nan, nan, nan, nan,\n",
       "        nan, nan, nan, nan, nan, nan, nan, nan, nan, nan, nan, nan, nan, nan, nan, nan, nan, nan, nan, nan, nan, nan, nan, nan,\n",
       "        nan, nan, nan, nan, nan, nan, nan, nan, nan, nan, nan, nan, nan, nan, nan, nan, nan, nan, nan, nan, nan, nan, nan, nan,\n",
       "        nan, nan, nan, nan, nan, nan, nan, nan, nan, nan, nan, nan, nan, nan, nan, nan, nan, nan, nan, nan, nan, nan, nan, nan,\n",
       "        nan, nan, nan, nan, nan, nan, nan, nan, nan, nan, nan, nan, nan, nan, nan, nan, nan, nan, nan, nan, nan, nan, nan, nan,\n",
       "        nan, nan, nan, nan, nan, nan, nan, nan, nan, nan, nan, nan, nan, nan, nan, nan, nan, nan, nan, nan, nan, nan, nan, nan,\n",
       "        nan, nan, nan, nan, nan, nan, nan, nan, nan, nan, nan, nan, nan, nan, nan, nan, nan, nan, nan, nan, nan, nan, nan, nan,\n",
       "        nan, nan, nan, nan, nan, nan, nan, nan, nan, nan, nan, nan, nan, nan, nan, nan, nan, nan, nan, nan, nan, nan, nan, nan,\n",
       "        nan, nan, nan, nan, nan, nan, nan, nan, nan, nan, nan, nan, nan, nan, nan, nan, nan, nan, nan, nan, nan, nan, nan, nan,\n",
       "        nan, nan, nan, nan, nan, nan, nan, nan, nan, nan, nan, nan, nan, nan, nan, nan, nan, nan, nan, nan, nan, nan, nan, nan,\n",
       "        nan, nan, nan, nan, nan, nan, nan, nan, nan, nan, nan, nan, nan, nan, nan, nan, nan, nan, nan, nan, nan, nan, nan, nan,\n",
       "        nan, nan, nan, nan, nan, nan, nan, nan, nan, nan, nan, nan],\n",
       "       device='cuda:0', grad_fn=<SelectBackward0>)"
      ]
     },
     "execution_count": 160,
     "metadata": {},
     "output_type": "execute_result"
    }
   ],
   "source": [
    "out[23]"
   ]
  },
  {
   "cell_type": "code",
   "execution_count": 161,
   "metadata": {},
   "outputs": [
    {
     "name": "stdout",
     "output_type": "stream",
     "text": [
      "ok\n"
     ]
    },
    {
     "name": "stderr",
     "output_type": "stream",
     "text": [
      "/home/francesco.pugnaloni/anaconda3/envs/HPIPyG/lib/python3.11/site-packages/torch_geometric/deprecation.py:22: UserWarning: 'data.DataLoader' is deprecated, use 'loader.DataLoader' instead\n",
      "  warnings.warn(out)\n"
     ]
    }
   ],
   "source": [
    "data = load_test_training_stuff(\"/dati/home/francesco.pugnaloni/wikipedia_tables/small_dataset_debug/triples.csv\",\"/dati/home/francesco.pugnaloni/wikipedia_tables/small_dataset_debug/graphs.pkl\")\n",
    "gtd = GraphTriplesDataset(data['triples'], data['graphs'])\n",
    "train_dataloader = DataLoader(gtd, batch_size=25, shuffle=True)\n",
    "l = []\n",
    "for i in train_dataloader:\n",
    "    l.append(i)\n",
    "batch = l[0]\n",
    "gbatch = batch[0].to('cuda')\n",
    "my_model = GNNTE(5,3)\n",
    "out = my_model(gbatch)\n",
    "print('ok')"
   ]
  },
  {
   "cell_type": "code",
   "execution_count": 164,
   "metadata": {},
   "outputs": [
    {
     "data": {
      "text/plain": [
       "DataBatch(x=[684, 300], edge_index=[2, 3684], batch=[684], ptr=[26])"
      ]
     },
     "execution_count": 164,
     "metadata": {},
     "output_type": "execute_result"
    }
   ],
   "source": [
    "gbatch"
   ]
  },
  {
   "cell_type": "code",
   "execution_count": 165,
   "metadata": {},
   "outputs": [
    {
     "data": {
      "text/plain": [
       "nan"
      ]
     },
     "execution_count": 165,
     "metadata": {},
     "output_type": "execute_result"
    }
   ],
   "source": [
    "torch.nan"
   ]
  },
  {
   "cell_type": "code",
   "execution_count": 167,
   "metadata": {},
   "outputs": [
    {
     "data": {
      "text/plain": [
       "tensor(90, device='cuda:0')"
      ]
     },
     "execution_count": 167,
     "metadata": {},
     "output_type": "execute_result"
    }
   ],
   "source": [
    "torch.sum(torch.isnan(out))"
   ]
  },
  {
   "cell_type": "code",
   "execution_count": 168,
   "metadata": {},
   "outputs": [
    {
     "data": {
      "text/plain": [
       "50"
      ]
     },
     "execution_count": 168,
     "metadata": {},
     "output_type": "execute_result"
    }
   ],
   "source": [
    "len(data['graphs'])"
   ]
  },
  {
   "cell_type": "code",
   "execution_count": 12,
   "metadata": {},
   "outputs": [],
   "source": [
    "tot = 0\n",
    "l = []\n",
    "for i in range(50):\n",
    "    tot += torch.sum(torch.isnan(data['graphs'][str(i)].X))\n",
    "    if torch.sum(torch.isnan(data['graphs'][str(i)].X)) != 0:\n",
    "        l.append(i)"
   ]
  },
  {
   "cell_type": "code",
   "execution_count": 11,
   "metadata": {},
   "outputs": [
    {
     "data": {
      "text/plain": [
       "tensor(18000)"
      ]
     },
     "execution_count": 11,
     "metadata": {},
     "output_type": "execute_result"
    }
   ],
   "source": [
    "tot"
   ]
  },
  {
   "cell_type": "code",
   "execution_count": null,
   "metadata": {},
   "outputs": [],
   "source": [
    "l"
   ]
  },
  {
   "cell_type": "code",
   "execution_count": 171,
   "metadata": {},
   "outputs": [
    {
     "data": {
      "text/plain": [
       "tensor(300)"
      ]
     },
     "execution_count": 171,
     "metadata": {},
     "output_type": "execute_result"
    }
   ],
   "source": [
    "torch.sum(torch.isnan(data['graphs'][str(1)].X[12:18]))"
   ]
  },
  {
   "cell_type": "code",
   "execution_count": 172,
   "metadata": {},
   "outputs": [
    {
     "data": {
      "text/plain": [
       "tensor([[-0.0267, -0.0463,  0.0250,  ..., -0.0153,  0.0012, -0.0230],\n",
       "        [ 0.0342, -0.0144,  0.0316,  ...,  0.0586, -0.0051,  0.0112],\n",
       "        [    nan,     nan,     nan,  ...,     nan,     nan,     nan],\n",
       "        [-0.0639,  0.0235, -0.0104,  ...,  0.0544, -0.0450,  0.0753],\n",
       "        [-0.1147,  0.0994,  0.0433,  ..., -0.1951,  0.0449,  0.0041],\n",
       "        [-0.0735,  0.0810,  0.0016,  ..., -0.0184,  0.0524, -0.0111]])"
      ]
     },
     "execution_count": 172,
     "metadata": {},
     "output_type": "execute_result"
    }
   ],
   "source": [
    "data['graphs'][str(1)].X[12:18]"
   ]
  },
  {
   "cell_type": "code",
   "execution_count": 175,
   "metadata": {},
   "outputs": [
    {
     "data": {
      "text/plain": [
       "tensor([ 3.4220e-02, -1.4418e-02,  3.1561e-02,  2.7710e-03, -1.2453e-04,\n",
       "         2.5195e-02, -1.9256e-02, -6.1987e-02,  3.6241e-02, -1.3131e-02,\n",
       "         8.0752e-02,  6.5243e-04,  2.8308e-02,  5.7992e-04, -6.9884e-02,\n",
       "        -7.7855e-02,  6.1163e-02, -1.3620e-01,  1.8274e-02, -4.5137e-02,\n",
       "         3.3244e-02, -9.4968e-02,  3.6478e-02,  1.8895e-02,  6.0276e-02,\n",
       "         8.6723e-02, -3.7946e-03,  2.3424e-02,  2.4898e-02,  3.9104e-02,\n",
       "         2.9422e-02, -2.2442e-02,  4.8203e-02,  7.2193e-02, -2.5699e-03,\n",
       "        -3.6526e-02,  1.7312e-02, -1.4082e-02, -2.9193e-03,  3.6887e-02,\n",
       "         1.6916e-02, -1.1618e-01,  3.5573e-02, -8.4303e-02,  2.5318e-02,\n",
       "         3.3375e-02,  3.2912e-02, -6.4352e-02,  5.4359e-02,  4.5138e-02,\n",
       "         3.7985e-02,  8.0404e-02, -2.9606e-02, -7.6558e-02, -7.3798e-03,\n",
       "         2.7716e-02,  8.7097e-02,  2.8702e-02, -5.6983e-02,  1.3051e-01,\n",
       "         6.7886e-02, -4.6071e-02,  3.1253e-02,  6.1368e-04,  6.6252e-02,\n",
       "         3.2440e-02, -1.8302e-02, -3.7581e-03, -1.1125e-02,  6.9189e-03,\n",
       "        -2.9396e-02, -2.1972e-02,  6.4064e-02, -5.6603e-02,  5.8769e-02,\n",
       "         2.2563e-03,  1.6936e-02, -1.9485e-02, -1.2676e-02, -3.5317e-02,\n",
       "         1.7297e-02, -2.9845e-02,  3.1925e-02,  4.7880e-02,  4.7093e-02,\n",
       "        -8.0264e-02, -3.1730e-03,  1.0334e-03,  5.8387e-02, -7.2695e-02,\n",
       "        -2.8772e-03, -4.4219e-02, -7.5863e-02, -6.0068e-02,  4.3710e-02,\n",
       "         1.2234e-01,  2.7777e-02,  7.4953e-03,  7.0760e-02, -3.1332e-02,\n",
       "        -3.4957e-03,  5.9620e-02,  1.0230e-01,  4.5191e-02,  2.7189e-04,\n",
       "        -1.5027e-01, -1.1547e-01,  6.4635e-02, -1.1841e-01, -1.3518e-02,\n",
       "        -4.4210e-02,  4.0599e-02,  8.5501e-02,  4.7732e-03, -7.9193e-03,\n",
       "         2.3851e-02,  2.5278e-02,  8.4320e-02, -6.6697e-02,  2.0018e-02,\n",
       "         7.3885e-02,  1.3691e-01,  2.0722e-02, -7.2219e-02,  1.1130e-01,\n",
       "         3.0123e-02, -6.3654e-03, -1.1985e-01, -6.3973e-02,  8.0972e-02,\n",
       "         9.0163e-04, -1.0053e-02,  2.1812e-03,  6.0494e-02, -3.4743e-02,\n",
       "         7.5847e-02, -2.1855e-02,  2.3891e-02,  1.9607e-02, -3.5876e-03,\n",
       "        -3.2597e-02, -1.2365e-01, -3.6762e-02, -1.6245e-02, -6.4808e-02,\n",
       "        -1.5209e-03,  5.8238e-03, -5.2168e-02,  9.0611e-03, -1.1203e-01,\n",
       "        -1.8160e-02,  9.5095e-02,  1.3304e-01,  2.4110e-02,  7.5659e-03,\n",
       "        -2.8472e-02, -2.2416e-02, -3.9480e-03,  8.6175e-03,  1.0061e-02,\n",
       "         1.1876e-02, -2.1708e-02, -9.0012e-02,  8.4294e-02, -4.8839e-02,\n",
       "        -5.3598e-03, -4.2969e-02, -2.5822e-02, -6.8603e-02,  9.8237e-02,\n",
       "        -1.9536e-02,  5.3220e-02, -4.7599e-02,  8.6604e-02,  4.1903e-02,\n",
       "         6.0295e-02, -1.6002e-02, -4.5649e-02, -5.8253e-02, -6.0087e-02,\n",
       "         6.8901e-02,  6.4538e-02, -9.5767e-02, -1.1671e-01, -7.7050e-02,\n",
       "        -4.8503e-02, -4.1781e-02,  9.6691e-02, -3.2605e-02, -6.0422e-02,\n",
       "        -6.3046e-02, -2.3196e-02, -1.9345e-02,  4.3393e-02, -6.8137e-03,\n",
       "         3.4358e-03,  3.8902e-02, -1.8280e-02,  1.4837e-02,  3.8888e-02,\n",
       "        -1.5138e-01,  7.5890e-02, -3.5436e-02,  3.0646e-02, -5.3082e-02,\n",
       "         8.7975e-02, -6.6129e-02, -9.2115e-02,  1.3869e-02, -3.6246e-02,\n",
       "         1.0435e-01, -8.6815e-03,  1.9833e-02, -8.2643e-02,  4.9201e-02,\n",
       "        -1.5739e-01, -5.3262e-02, -1.0493e-01,  5.0581e-02, -3.4456e-03,\n",
       "        -2.9866e-02,  1.0718e-01, -1.6677e-02,  4.2323e-02,  1.6422e-02,\n",
       "        -1.6563e-02, -3.8983e-04,  2.3916e-02, -2.5563e-03,  4.8019e-02,\n",
       "        -5.6353e-02, -5.0525e-02, -1.1081e-01, -2.5533e-02,  2.5509e-03,\n",
       "        -4.5239e-02,  4.0827e-02, -7.8801e-02,  2.6440e-02, -3.9266e-02,\n",
       "         3.6839e-02,  8.9534e-04, -7.0420e-02,  6.9014e-03,  1.7292e-02,\n",
       "         1.5982e-01, -6.3773e-02,  7.9238e-02, -1.0140e-03, -1.2422e-01,\n",
       "        -4.8630e-02,  1.8993e-02, -1.2097e-02, -4.4789e-02,  5.9864e-02,\n",
       "         1.3444e-01,  7.9275e-02, -3.8662e-02,  5.2980e-02, -1.0303e-02,\n",
       "        -2.4459e-02, -3.1974e-02, -5.9399e-02, -3.0287e-02,  6.5385e-02,\n",
       "         2.9142e-02,  3.6735e-02, -6.0979e-03, -2.3012e-02, -1.4606e-02,\n",
       "        -7.4263e-02,  8.1234e-02, -9.2648e-02, -1.8081e-03,  2.4527e-02,\n",
       "        -5.2015e-02, -8.4719e-02,  1.7357e-02, -5.1155e-02, -4.1432e-02,\n",
       "         9.3925e-02, -2.8938e-02,  5.1168e-02, -2.6901e-02, -9.4553e-02,\n",
       "         3.9435e-03, -3.0269e-02, -1.4499e-02, -6.3088e-02,  3.1090e-02,\n",
       "        -1.4781e-01, -2.1413e-03, -4.8699e-02, -4.6591e-02,  4.5943e-03,\n",
       "         6.1621e-02,  1.4103e-03,  5.8560e-02, -5.1436e-03,  1.1174e-02])"
      ]
     },
     "execution_count": 175,
     "metadata": {},
     "output_type": "execute_result"
    }
   ],
   "source": [
    "data['graphs'].X[13]"
   ]
  },
  {
   "cell_type": "code",
   "execution_count": 177,
   "metadata": {},
   "outputs": [],
   "source": [
    "for g in data['graphs'].values():\n",
    "    if g == None:\n",
    "        print('lui')"
   ]
  },
  {
   "cell_type": "code",
   "execution_count": 4,
   "metadata": {},
   "outputs": [],
   "source": [
    "t1 =[\n",
    "    [\"ciao sono mario\", '7',7],\n",
    "    [\"ferrovia\",pd.NA,\"12\"]\n",
    "    ]"
   ]
  },
  {
   "cell_type": "code",
   "execution_count": 5,
   "metadata": {},
   "outputs": [],
   "source": [
    "df = pd.DataFrame(t1)"
   ]
  },
  {
   "cell_type": "code",
   "execution_count": 6,
   "metadata": {},
   "outputs": [
    {
     "data": {
      "text/html": [
       "<div>\n",
       "<style scoped>\n",
       "    .dataframe tbody tr th:only-of-type {\n",
       "        vertical-align: middle;\n",
       "    }\n",
       "\n",
       "    .dataframe tbody tr th {\n",
       "        vertical-align: top;\n",
       "    }\n",
       "\n",
       "    .dataframe thead th {\n",
       "        text-align: right;\n",
       "    }\n",
       "</style>\n",
       "<table border=\"1\" class=\"dataframe\">\n",
       "  <thead>\n",
       "    <tr style=\"text-align: right;\">\n",
       "      <th></th>\n",
       "      <th>0</th>\n",
       "      <th>1</th>\n",
       "      <th>2</th>\n",
       "    </tr>\n",
       "  </thead>\n",
       "  <tbody>\n",
       "    <tr>\n",
       "      <th>0</th>\n",
       "      <td>ciao sono mario</td>\n",
       "      <td>7</td>\n",
       "      <td>7</td>\n",
       "    </tr>\n",
       "    <tr>\n",
       "      <th>1</th>\n",
       "      <td>ferrovia</td>\n",
       "      <td>&lt;NA&gt;</td>\n",
       "      <td>12</td>\n",
       "    </tr>\n",
       "  </tbody>\n",
       "</table>\n",
       "</div>"
      ],
      "text/plain": [
       "                 0     1   2\n",
       "0  ciao sono mario     7   7\n",
       "1         ferrovia  <NA>  12"
      ]
     },
     "execution_count": 6,
     "metadata": {},
     "output_type": "execute_result"
    }
   ],
   "source": [
    "df"
   ]
  },
  {
   "cell_type": "code",
   "execution_count": 8,
   "metadata": {},
   "outputs": [],
   "source": [
    "df.to_csv(\"/home/francesco.pugnaloni/tmp/test_table.csv\", index=False)"
   ]
  },
  {
   "cell_type": "code",
   "execution_count": 2,
   "metadata": {},
   "outputs": [],
   "source": [
    "from smallDatasetGenerator import *"
   ]
  },
  {
   "cell_type": "code",
   "execution_count": 4,
   "metadata": {},
   "outputs": [
    {
     "name": "stdout",
     "output_type": "stream",
     "text": [
      "Loading fasttext model, it will take 2/3 minutes\n"
     ]
    },
    {
     "name": "stderr",
     "output_type": "stream",
     "text": [
      "[nltk_data] Downloading package stopwords to\n",
      "[nltk_data]     /home/francesco.pugnaloni/nltk_data...\n",
      "[nltk_data]   Package stopwords is already up-to-date!\n"
     ]
    },
    {
     "name": "stdout",
     "output_type": "stream",
     "text": [
      "Model loaded\n",
      "Graphs generation starts\n"
     ]
    },
    {
     "name": "stderr",
     "output_type": "stream",
     "text": [
      "100%|██████████| 50/50 [00:01<00:00, 38.63it/s]"
     ]
    },
    {
     "name": "stdout",
     "output_type": "stream",
     "text": [
      "Graph generation ends\n",
      "Saving output\n",
      "Output saved\n"
     ]
    },
    {
     "name": "stderr",
     "output_type": "stream",
     "text": [
      "\n"
     ]
    }
   ],
   "source": [
    "generate_test_training_stuff(50, 100, \"/home/francesco.pugnaloni/tmp/small_tables\",3,3)"
   ]
  },
  {
   "cell_type": "code",
   "execution_count": 3,
   "metadata": {},
   "outputs": [],
   "source": [
    "data = load_test_training_stuff(\"/home/francesco.pugnaloni/tmp/small_tables\")"
   ]
  },
  {
   "cell_type": "code",
   "execution_count": 6,
   "metadata": {},
   "outputs": [
    {
     "data": {
      "text/plain": [
       "{'tables': {'0':                            0\n",
       "  0  I have a pen and an apple\n",
       "  1                          3\n",
       "  2                          2,\n",
       "  '1':      0\n",
       "  0  dog,\n",
       "  '2':                                            0   \n",
       "  0  The plot of the book is that it is a book  \\\n",
       "  1                                          8   \n",
       "  2                                        cat   \n",
       "  \n",
       "                                                     1   \n",
       "  0                                                cat  \\\n",
       "  1  this sentence will be pretty long and hopefull...   \n",
       "  2                                                  1   \n",
       "  \n",
       "                             2  \n",
       "  0                    Leopard  \n",
       "  1  I have a pen and an apple  \n",
       "  2                          2  ,\n",
       "  '3':                                                    0   \n",
       "  0                          I have a pen and an apple  \\\n",
       "  1  this sentence will be pretty long and hopefull...   \n",
       "  2                                                  2   \n",
       "  \n",
       "                                             1        2  \n",
       "  0  The plot of the book is that it is a book        1  \n",
       "  1  The plot of the book is that it is a book        8  \n",
       "  2                                          9  Leopard  ,\n",
       "  '4':    0\n",
       "  0  4\n",
       "  1  8,\n",
       "  '5':                             0    1\n",
       "  0  Keanu Reeves is an actor 3    1\n",
       "  1                           5  dog,\n",
       "  '6':      0  1\n",
       "  0  dog  6,\n",
       "  '7':                                            0   \n",
       "  0                                          3  \\\n",
       "  1  The plot of the book is that it is a book   \n",
       "  \n",
       "                                                     1  2  \n",
       "  0  this sentence will be pretty long and hopefull...  9  \n",
       "  1                                                dog  7  ,\n",
       "  '8':    0                                                  1       2\n",
       "  0  4  this sentence will be pretty long and hopefull...  JaGuar,\n",
       "  '9':                                                    0    1   \n",
       "  0                                                  1  cat  \\\n",
       "  1  this sentence will be pretty long and hopefull...    2   \n",
       "  \n",
       "                                                     2  \n",
       "  0  this sentence will be pretty long and hopefull...  \n",
       "  1                                                  4  ,\n",
       "  '10':      0\n",
       "  0  dog,\n",
       "  '11':    0                                                  1\n",
       "  0  9  this sentence will be pretty long and hopefull...\n",
       "  1  6                                                  4,\n",
       "  '12':    0                                                  1\n",
       "  0  1  this sentence will be pretty long and hopefull...\n",
       "  1  3  this sentence will be pretty long and hopefull...,\n",
       "  '13':                                                    0\n",
       "  0                                             JaGuar\n",
       "  1  this sentence will be pretty long and hopefull...\n",
       "  2                                                  4,\n",
       "  '14':                                            0  1   \n",
       "  0                                          2  4  \\\n",
       "  1                                          7  3   \n",
       "  2  The plot of the book is that it is a book  2   \n",
       "  \n",
       "                                                     2  \n",
       "  0                                                  9  \n",
       "  1  this sentence will be pretty long and hopefull...  \n",
       "  2  this sentence will be pretty long and hopefull...  ,\n",
       "  '15':                                                    0\n",
       "  0                                                  2\n",
       "  1  this sentence will be pretty long and hopefull...,\n",
       "  '16':    0        1\n",
       "  0  3      cat\n",
       "  1  1  Leopard,\n",
       "  '17':                                                    0   \n",
       "  0                                                  1  \\\n",
       "  1                                                  0   \n",
       "  2  this sentence will be pretty long and hopefull...   \n",
       "  \n",
       "                                                     1  \n",
       "  0  this sentence will be pretty long and hopefull...  \n",
       "  1                                                  7  \n",
       "  2                                                  9  ,\n",
       "  '18':                             0  1\n",
       "  0  Keanu Reeves is an actor 3  2,\n",
       "  '19':                                            0        1   \n",
       "  0  The plot of the book is that it is a book        3  \\\n",
       "  1                                          8  Leopard   \n",
       "  2                                          6        2   \n",
       "  \n",
       "                              2  \n",
       "  0                     Leopard  \n",
       "  1                           7  \n",
       "  2  Keanu Reeves is an actor 3  ,\n",
       "  '20':                                                    0   \n",
       "  0                                                cat  \\\n",
       "  1                                                dog   \n",
       "  2  this sentence will be pretty long and hopefull...   \n",
       "  \n",
       "                                                     1  \n",
       "  0  this sentence will be pretty long and hopefull...  \n",
       "  1                         Keanu Reeves is an actor 3  \n",
       "  2                                                  4  ,\n",
       "  '21':         0    1\n",
       "  0  JaGuar  cat\n",
       "  1       7    7\n",
       "  2  JaGuar    9,\n",
       "  '22':                                                    0   \n",
       "  0          The plot of the book is that it is a book  \\\n",
       "  1  this sentence will be pretty long and hopefull...   \n",
       "  2  this sentence will be pretty long and hopefull...   \n",
       "  \n",
       "                                             1  \n",
       "  0                  I have a pen and an apple  \n",
       "  1                                        dog  \n",
       "  2  The plot of the book is that it is a book  ,\n",
       "  '23':    0    1  2\n",
       "  0  5  dog  4\n",
       "  1  8    4  9,\n",
       "  '24':    0                    1  2\n",
       "  0  3  I believe I can fly  4,\n",
       "  '25':                                                    0\n",
       "  0  this sentence will be pretty long and hopefull...\n",
       "  1                                                  4\n",
       "  2  this sentence will be pretty long and hopefull...,\n",
       "  '26':                            0                                          1   \n",
       "  0                          1                 Keanu Reeves is an actor 3  \\\n",
       "  1                          4  The plot of the book is that it is a book   \n",
       "  2  I have a pen and an apple                                     JaGuar   \n",
       "  \n",
       "                       2  \n",
       "  0                    6  \n",
       "  1  I believe I can fly  \n",
       "  2                    5  ,\n",
       "  '27':      0\n",
       "  0  dog\n",
       "  1    6,\n",
       "  '28':                                                    0\n",
       "  0  this sentence will be pretty long and hopefull...\n",
       "  1                                                  2,\n",
       "  '29':      0\n",
       "  0  cat\n",
       "  1    0\n",
       "  2  cat,\n",
       "  '30':                                                    0\n",
       "  0                         Keanu Reeves is an actor 3\n",
       "  1  this sentence will be pretty long and hopefull...\n",
       "  2                                                  0,\n",
       "  '31':                      0\n",
       "  0                    3\n",
       "  1  I believe I can fly\n",
       "  2               JaGuar,\n",
       "  '32':                                            0\n",
       "  0  The plot of the book is that it is a book\n",
       "  1                                          1,\n",
       "  '33':                                                    0   \n",
       "  0                                                  7  \\\n",
       "  1  this sentence will be pretty long and hopefull...   \n",
       "  2                                                  9   \n",
       "  \n",
       "                                                     1  \n",
       "  0  this sentence will be pretty long and hopefull...  \n",
       "  1                                                  6  \n",
       "  2                                I believe I can fly  ,\n",
       "  '34':    0\n",
       "  0  2\n",
       "  1  2,\n",
       "  '35':                            0        1\n",
       "  0  I have a pen and an apple  Leopard,\n",
       "  '36':                            0\n",
       "  0                    Leopard\n",
       "  1                          2\n",
       "  2  I have a pen and an apple,\n",
       "  '37':                                                    0   \n",
       "  0  this sentence will be pretty long and hopefull...  \\\n",
       "  \n",
       "                                                     1  2  \n",
       "  0  this sentence will be pretty long and hopefull...  2  ,\n",
       "  '38':    0\n",
       "  0  5,\n",
       "  '39':    0  1                                                  2\n",
       "  0  2  3  this sentence will be pretty long and hopefull...,\n",
       "  '40':                                            0\n",
       "  0  The plot of the book is that it is a book\n",
       "  1                 Keanu Reeves is an actor 3,\n",
       "  '41':          0    1                                                  2\n",
       "  0  Leopard    0                                                  2\n",
       "  1        0    8                                                  1\n",
       "  2      dog  dog  this sentence will be pretty long and hopefull...,\n",
       "  '42':    0                                                  1\n",
       "  0  8                                                  8\n",
       "  1  9  this sentence will be pretty long and hopefull...,\n",
       "  '43':                                                    0    1   \n",
       "  0  this sentence will be pretty long and hopefull...  dog  \\\n",
       "  1                                                  7    5   \n",
       "  2                                                  2    1   \n",
       "  \n",
       "                                                     2  \n",
       "  0  this sentence will be pretty long and hopefull...  \n",
       "  1                                                dog  \n",
       "  2                                                  1  ,\n",
       "  '44':                             0  1\n",
       "  0  Keanu Reeves is an actor 3  8\n",
       "  1                           4  3\n",
       "  2                           9  2,\n",
       "  '45':                                            0    1\n",
       "  0  The plot of the book is that it is a book  dog,\n",
       "  '46':                                            0                          1    2\n",
       "  0  The plot of the book is that it is a book  I have a pen and an apple  cat,\n",
       "  '47':    0\n",
       "  0  8,\n",
       "  '48':                                                    0  1\n",
       "  0                                                  1  7\n",
       "  1  this sentence will be pretty long and hopefull...  4,\n",
       "  '49':    0\n",
       "  0  7\n",
       "  1  3},\n",
       " 'graphs': {'0': <graph.Graph at 0x7f9ef7822050>,\n",
       "  '1': <graph.Graph at 0x7f9ef7827150>,\n",
       "  '2': <graph.Graph at 0x7f9ef7827a50>,\n",
       "  '3': <graph.Graph at 0x7f9ef7814c90>,\n",
       "  '4': <graph.Graph at 0x7f9ef7835110>,\n",
       "  '5': <graph.Graph at 0x7f9ef78343d0>,\n",
       "  '6': <graph.Graph at 0x7f9ef7835c10>,\n",
       "  '7': <graph.Graph at 0x7f9ef7836850>,\n",
       "  '8': <graph.Graph at 0x7f9ea7267390>,\n",
       "  '9': <graph.Graph at 0x7f9ea7265150>,\n",
       "  '10': <graph.Graph at 0x7f9ef7696b90>,\n",
       "  '11': <graph.Graph at 0x7f9ef7694ad0>,\n",
       "  '12': <graph.Graph at 0x7f9ef76956d0>,\n",
       "  '13': <graph.Graph at 0x7f9ef7693790>,\n",
       "  '14': <graph.Graph at 0x7f9ef7692010>,\n",
       "  '15': <graph.Graph at 0x7f9ef784ead0>,\n",
       "  '16': <graph.Graph at 0x7f9ef782e890>,\n",
       "  '17': <graph.Graph at 0x7f9ef76904d0>,\n",
       "  '18': <graph.Graph at 0x7f9ef7837190>,\n",
       "  '19': <graph.Graph at 0x7f9ef78346d0>,\n",
       "  '20': <graph.Graph at 0x7f9ef7870810>,\n",
       "  '21': <graph.Graph at 0x7f9ef786f610>,\n",
       "  '22': <graph.Graph at 0x7f9ef786e890>,\n",
       "  '23': <graph.Graph at 0x7f9ef786d110>,\n",
       "  '24': <graph.Graph at 0x7f9ef786d350>,\n",
       "  '25': <graph.Graph at 0x7f9ef786db50>,\n",
       "  '26': <graph.Graph at 0x7f9ef786e850>,\n",
       "  '27': <graph.Graph at 0x7f9ef786c1d0>,\n",
       "  '28': <graph.Graph at 0x7f9ef786fbd0>,\n",
       "  '29': <graph.Graph at 0x7f9ef786efd0>,\n",
       "  '30': <graph.Graph at 0x7f9ef7834c10>,\n",
       "  '31': <graph.Graph at 0x7f9ef7875a50>,\n",
       "  '32': <graph.Graph at 0x7f9ef7877ad0>,\n",
       "  '33': <graph.Graph at 0x7f9ef7876490>,\n",
       "  '34': <graph.Graph at 0x7f9ef7875010>,\n",
       "  '35': <graph.Graph at 0x7f9ef7877890>,\n",
       "  '36': <graph.Graph at 0x7f9ef7876110>,\n",
       "  '37': <graph.Graph at 0x7f9ef7876950>,\n",
       "  '38': <graph.Graph at 0x7f9ef7813350>,\n",
       "  '39': <graph.Graph at 0x7f9ef7876c50>,\n",
       "  '40': <graph.Graph at 0x7f9ef7877f10>,\n",
       "  '41': <graph.Graph at 0x7f9ef786cd50>,\n",
       "  '42': <graph.Graph at 0x7f9ef7874550>,\n",
       "  '43': <graph.Graph at 0x7f9ef783e390>,\n",
       "  '44': <graph.Graph at 0x7f9ef78393d0>,\n",
       "  '45': <graph.Graph at 0x7f9ef7838fd0>,\n",
       "  '46': <graph.Graph at 0x7f9ef783aa90>,\n",
       "  '47': <graph.Graph at 0x7f9ef7839ed0>,\n",
       "  '48': <graph.Graph at 0x7f9ef783bf50>,\n",
       "  '49': <graph.Graph at 0x7f9ef7839490>},\n",
       " 'triples':      0   1         2\n",
       " 0   29  18  0.423007\n",
       " 1   46  35  0.661871\n",
       " 2   31   9  0.189898\n",
       " 3   13   3  0.579180\n",
       " 4   34   3  0.747976\n",
       " ..  ..  ..       ...\n",
       " 95   7  29  0.133339\n",
       " 96  29  42  0.531132\n",
       " 97  35  38  0.317298\n",
       " 98  48  28  0.612652\n",
       " 99  46  32  0.426741\n",
       " \n",
       " [100 rows x 3 columns]}"
      ]
     },
     "execution_count": 6,
     "metadata": {},
     "output_type": "execute_result"
    }
   ],
   "source": [
    "data"
   ]
  },
  {
   "cell_type": "code",
   "execution_count": 4,
   "metadata": {},
   "outputs": [],
   "source": [
    "tot = 0\n",
    "l = []\n",
    "for i in range(50):\n",
    "    tot += torch.sum(torch.isnan(data['graphs'][str(i)].X))\n",
    "    if torch.sum(torch.isnan(data['graphs'][str(i)].X)) != 0:\n",
    "        l.append(i)"
   ]
  },
  {
   "cell_type": "code",
   "execution_count": 5,
   "metadata": {},
   "outputs": [
    {
     "data": {
      "text/plain": [
       "tensor(1800)"
      ]
     },
     "execution_count": 5,
     "metadata": {},
     "output_type": "execute_result"
    }
   ],
   "source": [
    "tot"
   ]
  },
  {
   "cell_type": "code",
   "execution_count": 6,
   "metadata": {},
   "outputs": [
    {
     "data": {
      "text/plain": [
       "[22, 25, 29, 34, 37, 43]"
      ]
     },
     "execution_count": 6,
     "metadata": {},
     "output_type": "execute_result"
    }
   ],
   "source": [
    "l"
   ]
  },
  {
   "cell_type": "code",
   "execution_count": 7,
   "metadata": {},
   "outputs": [
    {
     "data": {
      "text/html": [
       "<div>\n",
       "<style scoped>\n",
       "    .dataframe tbody tr th:only-of-type {\n",
       "        vertical-align: middle;\n",
       "    }\n",
       "\n",
       "    .dataframe tbody tr th {\n",
       "        vertical-align: top;\n",
       "    }\n",
       "\n",
       "    .dataframe thead th {\n",
       "        text-align: right;\n",
       "    }\n",
       "</style>\n",
       "<table border=\"1\" class=\"dataframe\">\n",
       "  <thead>\n",
       "    <tr style=\"text-align: right;\">\n",
       "      <th></th>\n",
       "      <th>0</th>\n",
       "      <th>1</th>\n",
       "    </tr>\n",
       "  </thead>\n",
       "  <tbody>\n",
       "    <tr>\n",
       "      <th>0</th>\n",
       "      <td>The plot of the book is that it is a book</td>\n",
       "      <td>I have a pen and an apple</td>\n",
       "    </tr>\n",
       "    <tr>\n",
       "      <th>1</th>\n",
       "      <td>this sentence will be pretty long and hopefull...</td>\n",
       "      <td>dog</td>\n",
       "    </tr>\n",
       "    <tr>\n",
       "      <th>2</th>\n",
       "      <td>this sentence will be pretty long and hopefull...</td>\n",
       "      <td>The plot of the book is that it is a book</td>\n",
       "    </tr>\n",
       "  </tbody>\n",
       "</table>\n",
       "</div>"
      ],
      "text/plain": [
       "                                                   0   \n",
       "0          The plot of the book is that it is a book  \\\n",
       "1  this sentence will be pretty long and hopefull...   \n",
       "2  this sentence will be pretty long and hopefull...   \n",
       "\n",
       "                                           1  \n",
       "0                  I have a pen and an apple  \n",
       "1                                        dog  \n",
       "2  The plot of the book is that it is a book  "
      ]
     },
     "execution_count": 7,
     "metadata": {},
     "output_type": "execute_result"
    }
   ],
   "source": [
    "data['tables']['22']"
   ]
  },
  {
   "cell_type": "code",
   "execution_count": 11,
   "metadata": {},
   "outputs": [],
   "source": [
    "t = data['tables']['25']"
   ]
  },
  {
   "cell_type": "code",
   "execution_count": 10,
   "metadata": {},
   "outputs": [],
   "source": [
    "t['2'] = [pd.NA, 15, pd.NA]"
   ]
  },
  {
   "cell_type": "code",
   "execution_count": 14,
   "metadata": {},
   "outputs": [
    {
     "data": {
      "text/html": [
       "<div>\n",
       "<style scoped>\n",
       "    .dataframe tbody tr th:only-of-type {\n",
       "        vertical-align: middle;\n",
       "    }\n",
       "\n",
       "    .dataframe tbody tr th {\n",
       "        vertical-align: top;\n",
       "    }\n",
       "\n",
       "    .dataframe thead th {\n",
       "        text-align: right;\n",
       "    }\n",
       "</style>\n",
       "<table border=\"1\" class=\"dataframe\">\n",
       "  <thead>\n",
       "    <tr style=\"text-align: right;\">\n",
       "      <th></th>\n",
       "      <th>0</th>\n",
       "      <th>2</th>\n",
       "    </tr>\n",
       "  </thead>\n",
       "  <tbody>\n",
       "    <tr>\n",
       "      <th>0</th>\n",
       "      <td>this sentence will be pretty long and hopefull...</td>\n",
       "      <td>&lt;NA&gt;</td>\n",
       "    </tr>\n",
       "    <tr>\n",
       "      <th>1</th>\n",
       "      <td>4</td>\n",
       "      <td>15</td>\n",
       "    </tr>\n",
       "    <tr>\n",
       "      <th>2</th>\n",
       "      <td>this sentence will be pretty long and hopefull...</td>\n",
       "      <td>&lt;NA&gt;</td>\n",
       "    </tr>\n",
       "  </tbody>\n",
       "</table>\n",
       "</div>"
      ],
      "text/plain": [
       "                                                   0     2\n",
       "0  this sentence will be pretty long and hopefull...  <NA>\n",
       "1                                                  4    15\n",
       "2  this sentence will be pretty long and hopefull...  <NA>"
      ]
     },
     "execution_count": 14,
     "metadata": {},
     "output_type": "execute_result"
    }
   ],
   "source": [
    "t"
   ]
  },
  {
   "cell_type": "code",
   "execution_count": 15,
   "metadata": {},
   "outputs": [
    {
     "data": {
      "text/plain": [
       "tensor([[-0.0572,  0.0316,  0.0197,  ..., -0.1033,  0.0134,  0.0009],\n",
       "        [ 0.0004, -0.0362, -0.0040,  ..., -0.0115, -0.0181, -0.0023],\n",
       "        [-0.1147,  0.0994,  0.0433,  ..., -0.1951,  0.0449,  0.0041],\n",
       "        [    nan,     nan,     nan,  ...,     nan,     nan,     nan],\n",
       "        [ 0.0004, -0.0362, -0.0040,  ..., -0.0115, -0.0181, -0.0023],\n",
       "        [-0.1147,  0.0994,  0.0433,  ..., -0.1951,  0.0449,  0.0041]])"
      ]
     },
     "execution_count": 15,
     "metadata": {},
     "output_type": "execute_result"
    }
   ],
   "source": [
    "data['graphs']['25'].X"
   ]
  },
  {
   "cell_type": "code",
   "execution_count": 16,
   "metadata": {},
   "outputs": [
    {
     "data": {
      "text/plain": [
       "tensor(300)"
      ]
     },
     "execution_count": 16,
     "metadata": {},
     "output_type": "execute_result"
    }
   ],
   "source": [
    "torch.sum(torch.isnan(data['graphs']['25'].X))"
   ]
  },
  {
   "cell_type": "code",
   "execution_count": 16,
   "metadata": {},
   "outputs": [],
   "source": [
    "tmp = torch.Tensor([\n",
    "    [1,2,3],\n",
    "    [2,5,1],\n",
    "    [1,6,9],\n",
    "    [3,6,9]\n",
    "])"
   ]
  },
  {
   "cell_type": "code",
   "execution_count": 17,
   "metadata": {},
   "outputs": [
    {
     "data": {
      "text/plain": [
       "tensor([[1., 2., 3.],\n",
       "        [2., 5., 1.],\n",
       "        [1., 6., 9.],\n",
       "        [3., 6., 9.]])"
      ]
     },
     "execution_count": 17,
     "metadata": {},
     "output_type": "execute_result"
    }
   ],
   "source": [
    "tmp"
   ]
  },
  {
   "cell_type": "code",
   "execution_count": 18,
   "metadata": {},
   "outputs": [
    {
     "data": {
      "text/plain": [
       "tensor([[2., 5., 1.],\n",
       "        [1., 6., 9.],\n",
       "        [2., 5., 1.]])"
      ]
     },
     "execution_count": 18,
     "metadata": {},
     "output_type": "execute_result"
    }
   ],
   "source": [
    "l = [1,2,1]\n",
    "tmp[l]"
   ]
  },
  {
   "cell_type": "code",
   "execution_count": 22,
   "metadata": {},
   "outputs": [],
   "source": [
    "tmp1 = torch.Tensor([\n",
    "    [1,2,3],\n",
    "    [2,5,1],\n",
    "    [1,6,9],\n",
    "    [3,6,9]\n",
    "])\n",
    "\n",
    "tmp2 = torch.Tensor([\n",
    "    [1,2,3],\n",
    "    [2,6,1],\n",
    "    [2,1,5],\n",
    "    [3,6,9]\n",
    "])"
   ]
  },
  {
   "cell_type": "code",
   "execution_count": 23,
   "metadata": {},
   "outputs": [],
   "source": [
    "import torch.nn.functional as F"
   ]
  },
  {
   "cell_type": "code",
   "execution_count": 24,
   "metadata": {},
   "outputs": [
    {
     "data": {
      "text/plain": [
       "tensor([1.0000, 0.9980, 0.8908, 1.0000])"
      ]
     },
     "execution_count": 24,
     "metadata": {},
     "output_type": "execute_result"
    }
   ],
   "source": [
    "F.cosine_similarity(tmp1, tmp2, dim=1)"
   ]
  },
  {
   "cell_type": "code",
   "execution_count": 1,
   "metadata": {},
   "outputs": [],
   "source": [
    "import pandas as pd\n",
    "from trainingTriplesPreprocessing import *"
   ]
  },
  {
   "cell_type": "code",
   "execution_count": 2,
   "metadata": {},
   "outputs": [],
   "source": [
    "df = pd.read_csv(\"/dati/home/francesco.pugnaloni/wikipedia_tables/processed_tables/test_samples_no_small_tables.csv\")"
   ]
  },
  {
   "cell_type": "code",
   "execution_count": 3,
   "metadata": {},
   "outputs": [
    {
     "data": {
      "text/plain": [
       "(1486091, 3)"
      ]
     },
     "execution_count": 3,
     "metadata": {},
     "output_type": "execute_result"
    }
   ],
   "source": [
    "df.shape"
   ]
  },
  {
   "cell_type": "code",
   "execution_count": 4,
   "metadata": {},
   "outputs": [
    {
     "name": "stderr",
     "output_type": "stream",
     "text": [
      "100%|██████████| 1486091/1486091 [00:00<00:00, 2191849.28it/s]\n"
     ]
    },
    {
     "data": {
      "text/plain": [
       "{0.8: 179114,\n",
       " 0.3: 170101,\n",
       " 0.4: 119736,\n",
       " 0.9: 142098,\n",
       " 0.5: 89382,\n",
       " 0.7: 100776,\n",
       " 0.6: 70789,\n",
       " 0.0: 172623,\n",
       " 0.2: 168583,\n",
       " 0.1: 272889}"
      ]
     },
     "execution_count": 4,
     "metadata": {},
     "output_type": "execute_result"
    },
    {
     "data": {
      "image/png": "[encoded data removed]",
      "text/plain": [
       "<Figure size 640x480 with 1 Axes>"
      ]
     },
     "metadata": {},
     "output_type": "display_data"
    }
   ],
   "source": [
    "show_samples_distribution(df)"
   ]
  },
  {
   "cell_type": "code",
   "execution_count": 2,
   "metadata": {},
   "outputs": [],
   "source": [
    "df = generate_small_triple_dataset(100)"
   ]
  },
  {
   "cell_type": "code",
   "execution_count": 3,
   "metadata": {},
   "outputs": [
    {
     "data": {
      "text/plain": [
       "(100, 3)"
      ]
     },
     "execution_count": 3,
     "metadata": {},
     "output_type": "execute_result"
    }
   ],
   "source": [
    "df.shape"
   ]
  },
  {
   "cell_type": "code",
   "execution_count": 4,
   "metadata": {},
   "outputs": [
    {
     "data": {
      "text/html": [
       "<div>\n",
       "<style scoped>\n",
       "    .dataframe tbody tr th:only-of-type {\n",
       "        vertical-align: middle;\n",
       "    }\n",
       "\n",
       "    .dataframe tbody tr th {\n",
       "        vertical-align: top;\n",
       "    }\n",
       "\n",
       "    .dataframe thead th {\n",
       "        text-align: right;\n",
       "    }\n",
       "</style>\n",
       "<table border=\"1\" class=\"dataframe\">\n",
       "  <thead>\n",
       "    <tr style=\"text-align: right;\">\n",
       "      <th></th>\n",
       "      <th>r_id</th>\n",
       "      <th>s_id</th>\n",
       "      <th>table_overlap</th>\n",
       "    </tr>\n",
       "  </thead>\n",
       "  <tbody>\n",
       "    <tr>\n",
       "      <th>0</th>\n",
       "      <td>475.624970</td>\n",
       "      <td>475.62498</td>\n",
       "      <td>0.853659</td>\n",
       "    </tr>\n",
       "    <tr>\n",
       "      <th>1</th>\n",
       "      <td>492.106062</td>\n",
       "      <td>497.41440</td>\n",
       "      <td>0.571429</td>\n",
       "    </tr>\n",
       "    <tr>\n",
       "      <th>2</th>\n",
       "      <td>387.152780</td>\n",
       "      <td>489.23273</td>\n",
       "      <td>0.476190</td>\n",
       "    </tr>\n",
       "    <tr>\n",
       "      <th>3</th>\n",
       "      <td>205.768010</td>\n",
       "      <td>492.11052</td>\n",
       "      <td>0.290909</td>\n",
       "    </tr>\n",
       "    <tr>\n",
       "      <th>4</th>\n",
       "      <td>182.161740</td>\n",
       "      <td>239.94505</td>\n",
       "      <td>0.111111</td>\n",
       "    </tr>\n",
       "    <tr>\n",
       "      <th>...</th>\n",
       "      <td>...</td>\n",
       "      <td>...</td>\n",
       "      <td>...</td>\n",
       "    </tr>\n",
       "    <tr>\n",
       "      <th>95</th>\n",
       "      <td>579.589090</td>\n",
       "      <td>579.58924</td>\n",
       "      <td>0.846154</td>\n",
       "    </tr>\n",
       "    <tr>\n",
       "      <th>96</th>\n",
       "      <td>409.136973</td>\n",
       "      <td>448.68844</td>\n",
       "      <td>0.166667</td>\n",
       "    </tr>\n",
       "    <tr>\n",
       "      <th>97</th>\n",
       "      <td>159.102112</td>\n",
       "      <td>218.83592</td>\n",
       "      <td>0.197802</td>\n",
       "    </tr>\n",
       "    <tr>\n",
       "      <th>98</th>\n",
       "      <td>566.149830</td>\n",
       "      <td>566.14997</td>\n",
       "      <td>0.975610</td>\n",
       "    </tr>\n",
       "    <tr>\n",
       "      <th>99</th>\n",
       "      <td>242.196830</td>\n",
       "      <td>246.22275</td>\n",
       "      <td>0.111111</td>\n",
       "    </tr>\n",
       "  </tbody>\n",
       "</table>\n",
       "<p>100 rows × 3 columns</p>\n",
       "</div>"
      ],
      "text/plain": [
       "          r_id       s_id  table_overlap\n",
       "0   475.624970  475.62498       0.853659\n",
       "1   492.106062  497.41440       0.571429\n",
       "2   387.152780  489.23273       0.476190\n",
       "3   205.768010  492.11052       0.290909\n",
       "4   182.161740  239.94505       0.111111\n",
       "..         ...        ...            ...\n",
       "95  579.589090  579.58924       0.846154\n",
       "96  409.136973  448.68844       0.166667\n",
       "97  159.102112  218.83592       0.197802\n",
       "98  566.149830  566.14997       0.975610\n",
       "99  242.196830  246.22275       0.111111\n",
       "\n",
       "[100 rows x 3 columns]"
      ]
     },
     "execution_count": 4,
     "metadata": {},
     "output_type": "execute_result"
    }
   ],
   "source": [
    "df"
   ]
  },
  {
   "cell_type": "code",
   "execution_count": 1,
   "metadata": {},
   "outputs": [],
   "source": [
    "import pandas as pd"
   ]
  },
  {
   "cell_type": "code",
   "execution_count": 2,
   "metadata": {},
   "outputs": [],
   "source": [
    "df_no_small = pd.read_csv(\"/dati/home/francesco.pugnaloni/wikipedia_tables/processed_tables/test_samples_no_small_tables.csv\")"
   ]
  },
  {
   "cell_type": "code",
   "execution_count": 3,
   "metadata": {},
   "outputs": [
    {
     "data": {
      "text/plain": [
       "(1486091, 3)"
      ]
     },
     "execution_count": 3,
     "metadata": {},
     "output_type": "execute_result"
    }
   ],
   "source": [
    "df_no_small.shape"
   ]
  },
  {
   "cell_type": "code",
   "execution_count": 2,
   "metadata": {},
   "outputs": [],
   "source": [
    "df_train = pd.read_csv(\"/dati/home/francesco.pugnaloni/wikipedia_tables/training_data/millions_of_tables/samples.csv\")"
   ]
  },
  {
   "cell_type": "code",
   "execution_count": 5,
   "metadata": {},
   "outputs": [
    {
     "data": {
      "text/plain": [
       "(1486091, 3)"
      ]
     },
     "execution_count": 5,
     "metadata": {},
     "output_type": "execute_result"
    }
   ],
   "source": [
    "df_train.shape"
   ]
  },
  {
   "cell_type": "code",
   "execution_count": 3,
   "metadata": {},
   "outputs": [],
   "source": [
    "from trainingTriplesPreprocessing import show_samples_distribution"
   ]
  },
  {
   "cell_type": "code",
   "execution_count": 7,
   "metadata": {},
   "outputs": [
    {
     "name": "stderr",
     "output_type": "stream",
     "text": [
      "100%|██████████| 1486091/1486091 [00:00<00:00, 2090741.58it/s]\n"
     ]
    },
    {
     "data": {
      "text/plain": [
       "{0.8: 179114,\n",
       " 0.3: 170101,\n",
       " 0.4: 119736,\n",
       " 0.9: 142098,\n",
       " 0.5: 89382,\n",
       " 0.7: 100776,\n",
       " 0.6: 70789,\n",
       " 0.0: 172623,\n",
       " 0.2: 168583,\n",
       " 0.1: 272889}"
      ]
     },
     "execution_count": 7,
     "metadata": {},
     "output_type": "execute_result"
    },
    {
     "data": {
      "image/png": "[encoded data removed]",
      "text/plain": [
       "<Figure size 640x480 with 1 Axes>"
      ]
     },
     "metadata": {},
     "output_type": "display_data"
    }
   ],
   "source": [
    "show_samples_distribution(df_train)"
   ]
  },
  {
   "cell_type": "code",
   "execution_count": 4,
   "metadata": {},
   "outputs": [
    {
     "name": "stderr",
     "output_type": "stream",
     "text": [
      "100%|██████████| 1486091/1486091 [00:00<00:00, 2014610.23it/s]\n"
     ]
    },
    {
     "data": {
      "text/plain": [
       "{9.0: 70174,\n",
       " 3.3: 47263,\n",
       " 8.5: 22341,\n",
       " 4.0: 10518,\n",
       " 3.5: 7258,\n",
       " 8.8: 10003,\n",
       " 4.1: 4258,\n",
       " 4.9: 11255,\n",
       " 9.3: 12755,\n",
       " 8.3: 39452,\n",
       " 5.9: 33129,\n",
       " 8.0: 35289,\n",
       " 7.3: 5255,\n",
       " 6.6: 20023,\n",
       " 6.2: 5089,\n",
       " 9.9: 1645,\n",
       " 9.1: 11766,\n",
       " 8.7: 10894,\n",
       " 0.8: 21648,\n",
       " 7.4: 30773,\n",
       " 9.2: 17195,\n",
       " 4.7: 60070,\n",
       " 6.9: 9369,\n",
       " 6.5: 3997,\n",
       " 8.1: 12631,\n",
       " 4.4: 3847,\n",
       " 2.9: 13164,\n",
       " 5.3: 4765,\n",
       " 2.0: 30066,\n",
       " 1.7: 15963,\n",
       " 4.5: 4960,\n",
       " 3.7: 5255,\n",
       " 9.4: 15606,\n",
       " 5.5: 4312,\n",
       " 9.5: 12873,\n",
       " 5.0: 1801,\n",
       " 5.4: 4708,\n",
       " 2.6: 11916,\n",
       " 1.0: 58904,\n",
       " 3.1: 8224,\n",
       " 6.4: 4898,\n",
       " 2.7: 12891,\n",
       " 2.4: 27908,\n",
       " 9.7: 8051,\n",
       " 7.1: 20490,\n",
       " 3.0: 15717,\n",
       " 9.6: 12139,\n",
       " 8.9: 3793,\n",
       " 4.3: 3506,\n",
       " 4.8: 6201,\n",
       " 0.7: 26293,\n",
       " 1.9: 15007,\n",
       " 7.2: 7834,\n",
       " 5.6: 3455,\n",
       " 5.1: 3799,\n",
       " 5.2: 3522,\n",
       " 4.2: 8773,\n",
       " 3.8: 56141,\n",
       " 3.9: 2526,\n",
       " 6.8: 6496,\n",
       " 3.6: 8626,\n",
       " 4.6: 6348,\n",
       " 2.8: 10331,\n",
       " 8.6: 5936,\n",
       " 6.3: 4450,\n",
       " 2.3: 19000,\n",
       " 2.2: 21678,\n",
       " 7.8: 5317,\n",
       " 7.7: 5347,\n",
       " 1.4: 18649,\n",
       " 5.7: 26023,\n",
       " 1.6: 23570,\n",
       " 1.8: 22658,\n",
       " 6.1: 6583,\n",
       " 3.2: 14361,\n",
       " 7.6: 8506,\n",
       " 9.8: 4825,\n",
       " 6.7: 3143,\n",
       " 7.0: 5826,\n",
       " 5.8: 3868,\n",
       " 8.2: 4501,\n",
       " 8.4: 9343,\n",
       " 2.5: 7653,\n",
       " 1.1: 64506,\n",
       " 7.5: 8934,\n",
       " 2.1: 13976,\n",
       " 1.2: 18850,\n",
       " 0.9: 35073,\n",
       " 1.5: 17818,\n",
       " 3.4: 4730,\n",
       " 0.6: 29726,\n",
       " 0.3: 13426,\n",
       " 7.9: 2494,\n",
       " 0.4: 14465,\n",
       " 0.5: 29425,\n",
       " 6.0: 6741,\n",
       " 1.3: 16964,\n",
       " 0.2: 1911,\n",
       " 0.0: 322,\n",
       " 0.1: 334}"
      ]
     },
     "execution_count": 4,
     "metadata": {},
     "output_type": "execute_result"
    },
    {
     "data": {
      "image/png": "[encoded data removed]",
      "text/plain": [
       "<Figure size 640x480 with 1 Axes>"
      ]
     },
     "metadata": {},
     "output_type": "display_data"
    }
   ],
   "source": [
    "show_samples_distribution(df_train, granularity=0.01)"
   ]
  },
  {
   "cell_type": "code",
   "execution_count": 1,
   "metadata": {},
   "outputs": [
    {
     "ename": "TypeError",
     "evalue": "'float' object cannot be interpreted as an integer",
     "output_type": "error",
     "traceback": [
      "\u001b[0;31m---------------------------------------------------------------------------\u001b[0m",
      "\u001b[0;31mTypeError\u001b[0m                                 Traceback (most recent call last)",
      "Cell \u001b[0;32mIn[1], line 1\u001b[0m\n\u001b[0;32m----> 1\u001b[0m \u001b[39mfor\u001b[39;00m i \u001b[39min\u001b[39;00m \u001b[39mrange\u001b[39;49m(\u001b[39m0\u001b[39;49m,\u001b[39m1\u001b[39;49m,\u001b[39m0.1\u001b[39;49m):\n\u001b[1;32m      2\u001b[0m     \u001b[39mprint\u001b[39m(i)\n",
      "\u001b[0;31mTypeError\u001b[0m: 'float' object cannot be interpreted as an integer"
     ]
    }
   ],
   "source": []
  },
  {
   "cell_type": "code",
   "execution_count": null,
   "metadata": {},
   "outputs": [],
   "source": []
  }
 ],
 "metadata": {
  "kernelspec": {
   "display_name": "HPIPyG",
   "language": "python",
   "name": "python3"
  },
  "language_info": {
   "codemirror_mode": {
    "name": "ipython",
    "version": 3
   },
   "file_extension": ".py",
   "mimetype": "text/x-python",
   "name": "python",
   "nbconvert_exporter": "python",
   "pygments_lexer": "ipython3",
   "version": "3.11.3"
  },
  "orig_nbformat": 4
 },
 "nbformat": 4,
 "nbformat_minor": 2
}
